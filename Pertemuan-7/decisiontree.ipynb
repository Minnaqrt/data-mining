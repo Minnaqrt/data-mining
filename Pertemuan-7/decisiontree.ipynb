{
 "cells": [
  {
   "cell_type": "code",
   "execution_count": 272,
   "metadata": {},
   "outputs": [],
   "source": [
    "import numpy as np\n",
    "import pandas as pd\n",
    "from sklearn import tree\n",
    "penguinDataset = pd.read_csv('penguins_size.csv', delimiter=',', header=0)"
   ]
  },
  {
   "cell_type": "code",
   "execution_count": 273,
   "metadata": {},
   "outputs": [
    {
     "name": "stdout",
     "output_type": "stream",
     "text": [
      "  species     island  culmen_length_mm  culmen_depth_mm  flipper_length_mm  \\\n",
      "0  Adelie  Torgersen              39.1             18.7              181.0   \n",
      "1  Adelie  Torgersen              39.5             17.4              186.0   \n",
      "2  Adelie  Torgersen              40.3             18.0              195.0   \n",
      "3  Adelie  Torgersen               NaN              NaN                NaN   \n",
      "4  Adelie  Torgersen              36.7             19.3              193.0   \n",
      "\n",
      "   body_mass_g     sex  \n",
      "0       3750.0    MALE  \n",
      "1       3800.0  FEMALE  \n",
      "2       3250.0  FEMALE  \n",
      "3          NaN     NaN  \n",
      "4       3450.0  FEMALE  \n",
      "species\n",
      "Adelie       152\n",
      "Gentoo       124\n",
      "Chinstrap     68\n",
      "Name: count, dtype: int64\n"
     ]
    }
   ],
   "source": [
    "print(penguinDataset.head())\n",
    "print(penguinDataset[\"species\"].value_counts())"
   ]
  },
  {
   "cell_type": "code",
   "execution_count": 274,
   "metadata": {},
   "outputs": [
    {
     "name": "stdout",
     "output_type": "stream",
     "text": [
      "Index(['species', 'island', 'culmen_length_mm', 'culmen_depth_mm',\n",
      "       'flipper_length_mm', 'body_mass_g', 'sex'],\n",
      "      dtype='object')\n"
     ]
    }
   ],
   "source": [
    "print(penguinDataset.columns)"
   ]
  },
  {
   "cell_type": "code",
   "execution_count": 275,
   "metadata": {},
   "outputs": [
    {
     "name": "stdout",
     "output_type": "stream",
     "text": [
      "['Adelie' 'Chinstrap' 'Gentoo']\n"
     ]
    }
   ],
   "source": [
    "print(penguinDataset[\"species\"].unique())"
   ]
  },
  {
   "cell_type": "code",
   "execution_count": 276,
   "metadata": {},
   "outputs": [
    {
     "name": "stderr",
     "output_type": "stream",
     "text": [
      "C:\\Users\\sf314\\AppData\\Local\\Temp\\ipykernel_28140\\2794005567.py:1: FutureWarning: A value is trying to be set on a copy of a DataFrame or Series through chained assignment using an inplace method.\n",
      "The behavior will change in pandas 3.0. This inplace method will never work because the intermediate object on which we are setting values always behaves as a copy.\n",
      "\n",
      "For example, when doing 'df[col].method(value, inplace=True)', try using 'df.method({col: value}, inplace=True)' or df[col] = df[col].method(value) instead, to perform the operation inplace on the original object.\n",
      "\n",
      "\n",
      "  penguinDataset['culmen_length_mm'].fillna(penguinDataset['culmen_length_mm'].median(), inplace=True)\n",
      "C:\\Users\\sf314\\AppData\\Local\\Temp\\ipykernel_28140\\2794005567.py:2: FutureWarning: A value is trying to be set on a copy of a DataFrame or Series through chained assignment using an inplace method.\n",
      "The behavior will change in pandas 3.0. This inplace method will never work because the intermediate object on which we are setting values always behaves as a copy.\n",
      "\n",
      "For example, when doing 'df[col].method(value, inplace=True)', try using 'df.method({col: value}, inplace=True)' or df[col] = df[col].method(value) instead, to perform the operation inplace on the original object.\n",
      "\n",
      "\n",
      "  penguinDataset['culmen_depth_mm'].fillna(penguinDataset['culmen_depth_mm'].median(), inplace=True)\n",
      "C:\\Users\\sf314\\AppData\\Local\\Temp\\ipykernel_28140\\2794005567.py:3: FutureWarning: A value is trying to be set on a copy of a DataFrame or Series through chained assignment using an inplace method.\n",
      "The behavior will change in pandas 3.0. This inplace method will never work because the intermediate object on which we are setting values always behaves as a copy.\n",
      "\n",
      "For example, when doing 'df[col].method(value, inplace=True)', try using 'df.method({col: value}, inplace=True)' or df[col] = df[col].method(value) instead, to perform the operation inplace on the original object.\n",
      "\n",
      "\n",
      "  penguinDataset['flipper_length_mm'].fillna(penguinDataset['flipper_length_mm'].median(), inplace=True)\n",
      "C:\\Users\\sf314\\AppData\\Local\\Temp\\ipykernel_28140\\2794005567.py:4: FutureWarning: A value is trying to be set on a copy of a DataFrame or Series through chained assignment using an inplace method.\n",
      "The behavior will change in pandas 3.0. This inplace method will never work because the intermediate object on which we are setting values always behaves as a copy.\n",
      "\n",
      "For example, when doing 'df[col].method(value, inplace=True)', try using 'df.method({col: value}, inplace=True)' or df[col] = df[col].method(value) instead, to perform the operation inplace on the original object.\n",
      "\n",
      "\n",
      "  penguinDataset['body_mass_g'].fillna(penguinDataset['body_mass_g'].median(), inplace=True)\n"
     ]
    }
   ],
   "source": [
    "penguinDataset['culmen_length_mm'].fillna(penguinDataset['culmen_length_mm'].median(), inplace=True)\n",
    "penguinDataset['culmen_depth_mm'].fillna(penguinDataset['culmen_depth_mm'].median(), inplace=True)\n",
    "penguinDataset['flipper_length_mm'].fillna(penguinDataset['flipper_length_mm'].median(), inplace=True)\n",
    "penguinDataset['body_mass_g'].fillna(penguinDataset['body_mass_g'].median(), inplace=True)"
   ]
  },
  {
   "cell_type": "code",
   "execution_count": 277,
   "metadata": {},
   "outputs": [
    {
     "name": "stderr",
     "output_type": "stream",
     "text": [
      "C:\\Users\\sf314\\AppData\\Local\\Temp\\ipykernel_28140\\3252791272.py:2: FutureWarning: A value is trying to be set on a copy of a DataFrame or Series through chained assignment using an inplace method.\n",
      "The behavior will change in pandas 3.0. This inplace method will never work because the intermediate object on which we are setting values always behaves as a copy.\n",
      "\n",
      "For example, when doing 'df[col].method(value, inplace=True)', try using 'df.method({col: value}, inplace=True)' or df[col] = df[col].method(value) instead, to perform the operation inplace on the original object.\n",
      "\n",
      "\n",
      "  penguinDataset['sex'].fillna(most_frequent_sex, inplace=True)\n"
     ]
    }
   ],
   "source": [
    "most_frequent_sex = penguinDataset['sex'].mode()[0]\n",
    "penguinDataset['sex'].fillna(most_frequent_sex, inplace=True)"
   ]
  },
  {
   "cell_type": "code",
   "execution_count": 278,
   "metadata": {},
   "outputs": [
    {
     "name": "stdout",
     "output_type": "stream",
     "text": [
      "species              0\n",
      "island               0\n",
      "culmen_length_mm     0\n",
      "culmen_depth_mm      0\n",
      "flipper_length_mm    0\n",
      "body_mass_g          0\n",
      "sex                  0\n",
      "dtype: int64\n"
     ]
    }
   ],
   "source": [
    "nan_counts = penguinDataset.isna().sum()\n",
    "print(nan_counts)"
   ]
  },
  {
   "cell_type": "code",
   "execution_count": 279,
   "metadata": {},
   "outputs": [],
   "source": [
    "penguinDataset = pd.get_dummies(penguinDataset, columns=['island', 'sex'], drop_first=True)"
   ]
  },
  {
   "cell_type": "code",
   "execution_count": 280,
   "metadata": {},
   "outputs": [
    {
     "name": "stdout",
     "output_type": "stream",
     "text": [
      "[0 1 2]\n"
     ]
    }
   ],
   "source": [
    "penguinDataset[\"species\"] = pd.factorize(penguinDataset.species)[0]\n",
    "print(penguinDataset[\"species\"].unique())"
   ]
  },
  {
   "cell_type": "code",
   "execution_count": 281,
   "metadata": {},
   "outputs": [],
   "source": [
    "penguinDataset = penguinDataset.to_numpy()"
   ]
  },
  {
   "cell_type": "code",
   "execution_count": 282,
   "metadata": {},
   "outputs": [],
   "source": [
    "dataTraining = np.concatenate((penguinDataset[0:150,:],\n",
    "                              penguinDataset[160:250,:]), axis=0)\n",
    "dataTesting = np.concatenate((penguinDataset[150:160,:],\n",
    "                              penguinDataset[250:300,:]), axis=0)\n"
   ]
  },
  {
   "cell_type": "code",
   "execution_count": 283,
   "metadata": {},
   "outputs": [],
   "source": [
    "inputTraining = dataTraining[:,1:]\n",
    "labelTraining = dataTraining[:,0]\n",
    "inputTesting = dataTesting[:,1:]\n",
    "labelTesting = dataTesting[:,0]"
   ]
  },
  {
   "cell_type": "code",
   "execution_count": 284,
   "metadata": {},
   "outputs": [
    {
     "name": "stdout",
     "output_type": "stream",
     "text": [
      "(240, 8)\n",
      "(240,)\n"
     ]
    }
   ],
   "source": [
    "print(inputTraining.shape)\n",
    "print(labelTraining.shape)"
   ]
  },
  {
   "cell_type": "code",
   "execution_count": 286,
   "metadata": {},
   "outputs": [],
   "source": [
    "labelTraining = labelTraining.astype(int)"
   ]
  },
  {
   "cell_type": "code",
   "execution_count": null,
   "metadata": {},
   "outputs": [
    {
     "name": "stdout",
     "output_type": "stream",
     "text": [
      "0\n"
     ]
    }
   ],
   "source": [
    "print(np.isnan(labelTraining).sum())"
   ]
  },
  {
   "cell_type": "code",
   "execution_count": 288,
   "metadata": {},
   "outputs": [
    {
     "name": "stdout",
     "output_type": "stream",
     "text": [
      "Isi dataTraining:\n",
      "[[0 39.1 18.7 ... True False True]\n",
      " [0 39.5 17.4 ... True True False]\n",
      " [0 40.3 18.0 ... True True False]\n",
      " ...\n",
      " [2 47.8 15.0 ... False False True]\n",
      " [2 48.2 14.3 ... False True False]\n",
      " [2 50.0 15.3 ... False False True]]\n"
     ]
    }
   ],
   "source": [
    "print(\"Isi dataTraining:\")\n",
    "print(dataTraining)"
   ]
  },
  {
   "cell_type": "code",
   "execution_count": 289,
   "metadata": {},
   "outputs": [
    {
     "name": "stdout",
     "output_type": "stream",
     "text": [
      "Isi dataTesting:\n",
      "[[0 36.0 17.1 187.0 3700.0 True False True False]\n",
      " [0 41.5 18.5 201.0 4000.0 True False False True]\n",
      " [1 46.5 17.9 192.0 3500.0 True False True False]\n",
      " [1 50.0 19.5 196.0 3900.0 True False False True]\n",
      " [1 51.3 19.2 193.0 3650.0 True False False True]\n",
      " [1 45.4 18.7 188.0 3525.0 True False True False]\n",
      " [1 52.7 19.8 197.0 3725.0 True False False True]\n",
      " [1 45.2 17.8 198.0 3950.0 True False True False]\n",
      " [1 46.1 18.2 178.0 3250.0 True False True False]\n",
      " [1 51.3 18.2 197.0 3750.0 True False False True]\n",
      " [2 47.3 15.3 222.0 5250.0 False False False True]\n",
      " [2 42.8 14.2 209.0 4700.0 False False True False]\n",
      " [2 45.1 14.5 207.0 5050.0 False False True False]\n",
      " [2 59.6 17.0 230.0 6050.0 False False False True]\n",
      " [2 49.1 14.8 220.0 5150.0 False False True False]\n",
      " [2 48.4 16.3 220.0 5400.0 False False False True]\n",
      " [2 42.6 13.7 213.0 4950.0 False False True False]\n",
      " [2 44.4 17.3 219.0 5250.0 False False False True]\n",
      " [2 44.0 13.6 208.0 4350.0 False False True False]\n",
      " [2 48.7 15.7 208.0 5350.0 False False False True]\n",
      " [2 42.7 13.7 208.0 3950.0 False False True False]\n",
      " [2 49.6 16.0 225.0 5700.0 False False False True]\n",
      " [2 45.3 13.7 210.0 4300.0 False False True False]\n",
      " [2 49.6 15.0 216.0 4750.0 False False False True]\n",
      " [2 50.5 15.9 222.0 5550.0 False False False True]\n",
      " [2 43.6 13.9 217.0 4900.0 False False True False]\n",
      " [2 45.5 13.9 210.0 4200.0 False False True False]\n",
      " [2 50.5 15.9 225.0 5400.0 False False False True]\n",
      " [2 44.9 13.3 213.0 5100.0 False False True False]\n",
      " [2 45.2 15.8 215.0 5300.0 False False False True]\n",
      " [2 46.6 14.2 210.0 4850.0 False False True False]\n",
      " [2 48.5 14.1 220.0 5300.0 False False False True]\n",
      " [2 45.1 14.4 210.0 4400.0 False False True False]\n",
      " [2 50.1 15.0 225.0 5000.0 False False False True]\n",
      " [2 46.5 14.4 217.0 4900.0 False False True False]\n",
      " [2 45.0 15.4 220.0 5050.0 False False False True]\n",
      " [2 43.8 13.9 208.0 4300.0 False False True False]\n",
      " [2 45.5 15.0 220.0 5000.0 False False False True]\n",
      " [2 43.2 14.5 208.0 4450.0 False False True False]\n",
      " [2 50.4 15.3 224.0 5550.0 False False False True]\n",
      " [2 45.3 13.8 208.0 4200.0 False False True False]\n",
      " [2 46.2 14.9 221.0 5300.0 False False False True]\n",
      " [2 45.7 13.9 214.0 4400.0 False False True False]\n",
      " [2 54.3 15.7 231.0 5650.0 False False False True]\n",
      " [2 45.8 14.2 219.0 4700.0 False False True False]\n",
      " [2 49.8 16.8 230.0 5700.0 False False False True]\n",
      " [2 46.2 14.4 214.0 4650.0 False False False True]\n",
      " [2 49.5 16.2 229.0 5800.0 False False False True]\n",
      " [2 43.5 14.2 220.0 4700.0 False False True False]\n",
      " [2 50.7 15.0 223.0 5550.0 False False False True]\n",
      " [2 47.7 15.0 216.0 4750.0 False False True False]\n",
      " [2 46.4 15.6 221.0 5000.0 False False False True]\n",
      " [2 48.2 15.6 221.0 5100.0 False False False True]\n",
      " [2 46.5 14.8 217.0 5200.0 False False True False]\n",
      " [2 46.4 15.0 216.0 4700.0 False False True False]\n",
      " [2 48.6 16.0 230.0 5800.0 False False False True]\n",
      " [2 47.5 14.2 209.0 4600.0 False False True False]\n",
      " [2 51.1 16.3 220.0 6000.0 False False False True]\n",
      " [2 45.2 13.8 215.0 4750.0 False False True False]\n",
      " [2 45.2 16.4 223.0 5950.0 False False False True]]\n"
     ]
    }
   ],
   "source": [
    "print(\"Isi dataTesting:\")\n",
    "print(dataTesting)"
   ]
  },
  {
   "cell_type": "code",
   "execution_count": 290,
   "metadata": {},
   "outputs": [
    {
     "name": "stdout",
     "output_type": "stream",
     "text": [
      "{0, 1, 2}\n",
      "{0, 1, 2}\n"
     ]
    }
   ],
   "source": [
    "print(set(labelTraining))\n",
    "print(set(labelTesting))"
   ]
  },
  {
   "cell_type": "code",
   "execution_count": 291,
   "metadata": {},
   "outputs": [
    {
     "name": "stdout",
     "output_type": "stream",
     "text": [
      "label sebenernya  [0 0 1 1 1 1 1 1 1 1 2 2 2 2 2 2 2 2 2 2 2 2 2 2 2 2 2 2 2 2 2 2 2 2 2 2 2\n",
      " 2 2 2 2 2 2 2 2 2 2 2 2 2 2 2 2 2 2 2 2 2 2 2]\n",
      "hasil prediksi:  [0 0 1 1 1 1 1 1 1 1 2 2 2 2 2 2 2 0 2 2 2 2 2 2 2 2 2 2 2 2 2 2 2 2 2 2 2\n",
      " 2 2 2 2 2 2 2 2 2 2 2 2 2 2 2 2 2 2 2 2 2 2 2]\n"
     ]
    }
   ],
   "source": [
    "model = tree.DecisionTreeClassifier()\n",
    "model = model.fit(inputTraining, labelTraining)\n",
    "hasilPrediksi = model.predict(inputTesting)\n",
    "print(\"label sebenernya \", labelTesting)\n",
    "print(\"hasil prediksi: \", hasilPrediksi)"
   ]
  },
  {
   "cell_type": "code",
   "execution_count": 292,
   "metadata": {},
   "outputs": [
    {
     "name": "stdout",
     "output_type": "stream",
     "text": [
      "prediksi benar:  59  data\n",
      "prediksi salah:  1  data\n",
      "akurasi:  98.33333333333333 %\n"
     ]
    }
   ],
   "source": [
    "prediksiBenar = (hasilPrediksi == labelTesting).sum()\n",
    "prediksiSalah = (hasilPrediksi != labelTesting).sum()\n",
    "print(\"prediksi benar: \", prediksiBenar, \" data\")\n",
    "print(\"prediksi salah: \", prediksiSalah, \" data\")\n",
    "print(\"akurasi: \", prediksiBenar/(prediksiBenar+prediksiSalah) * 100, \"%\")"
   ]
  }
 ],
 "metadata": {
  "kernelspec": {
   "display_name": "Python 3",
   "language": "python",
   "name": "python3"
  },
  "language_info": {
   "name": "python",
   "version": "3.12.2"
  }
 },
 "nbformat": 4,
 "nbformat_minor": 2
}
